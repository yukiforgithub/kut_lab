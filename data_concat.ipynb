{
 "cells": [
  {
   "cell_type": "code",
   "execution_count": 16,
   "metadata": {},
   "outputs": [],
   "source": [
    "# coding: utf-8\n",
    "import os\n",
    "import numpy as np\n",
    "import pandas as pd\n",
    "from keras.layers import Dense,Input,Conv1D,MaxPooling1D,Flatten,Dropout\n",
    "from keras.optimizers import Nadam\n",
    "from keras.layers.advanced_activations import PReLU\n",
    "from keras.callbacks import ModelCheckpoint\n",
    "import datetime\n",
    "from keras.models import Model\n",
    "from keras import regularizers\n",
    "import matplotlib.pyplot as plt\n",
    "import pickle\n",
    "from keras.models import model_from_json\n",
    "import matplotlib.pyplot as plt\n",
    "from sklearn.metrics import mean_squared_error\n",
    "from matplotlib.backends.backend_pdf import PdfPages"
   ]
  },
  {
   "cell_type": "code",
   "execution_count": 17,
   "metadata": {},
   "outputs": [],
   "source": [
    "l = [\"onomi\",\"funato\",\"yoshiuno\",\"kitagawa\",\n",
    "     \"yusuhara\",\"kagechi\",\"taisho\",\"dogamori\",\n",
    "     \"ekawasaki\",\"meguro\",\"chikanaga\",\"hiyoshi\",\"kubokawa\"]"
   ]
  },
  {
   "cell_type": "code",
   "execution_count": 18,
   "metadata": {},
   "outputs": [],
   "source": [
    "con=pd.read_csv(\"/home/waka/resol_new/0.5days/\" + l[0] + \"_2y.csv\")"
   ]
  },
  {
   "cell_type": "code",
   "execution_count": 19,
   "metadata": {},
   "outputs": [
    {
     "name": "stdout",
     "output_type": "stream",
     "text": [
      "funato\n",
      "yoshiuno\n",
      "kitagawa\n",
      "yusuhara\n",
      "kagechi\n",
      "taisho\n",
      "dogamori\n",
      "ekawasaki\n",
      "meguro\n",
      "chikanaga\n",
      "hiyoshi\n",
      "kubokawa\n"
     ]
    }
   ],
   "source": [
    "for i in range(1,len(l)):\n",
    "    print(l[i])\n",
    "    add = pd.read_csv(\"/home/waka/resol_new/0.5days/\" + l[i] + \"_2y.csv\")\n",
    "    con=np.hstack((con,add))"
   ]
  },
  {
   "cell_type": "code",
   "execution_count": 20,
   "metadata": {},
   "outputs": [],
   "source": [
    "con = pd.DataFrame(con)\n",
    "con.to_csv(\"/home/waka/resol_new/0.5days/all_2y.csv\",header = None,index=None)"
   ]
  },
  {
   "cell_type": "code",
   "execution_count": null,
   "metadata": {},
   "outputs": [],
   "source": []
  },
  {
   "cell_type": "code",
   "execution_count": null,
   "metadata": {},
   "outputs": [],
   "source": []
  },
  {
   "cell_type": "code",
   "execution_count": null,
   "metadata": {},
   "outputs": [],
   "source": []
  },
  {
   "cell_type": "code",
   "execution_count": null,
   "metadata": {},
   "outputs": [],
   "source": []
  },
  {
   "cell_type": "code",
   "execution_count": null,
   "metadata": {},
   "outputs": [],
   "source": []
  }
 ],
 "metadata": {
  "kernelspec": {
   "display_name": "Python 3",
   "language": "python",
   "name": "python3"
  },
  "language_info": {
   "codemirror_mode": {
    "name": "ipython",
    "version": 3
   },
   "file_extension": ".py",
   "mimetype": "text/x-python",
   "name": "python",
   "nbconvert_exporter": "python",
   "pygments_lexer": "ipython3",
   "version": "3.6.5"
  }
 },
 "nbformat": 4,
 "nbformat_minor": 2
}
